{
 "cells": [
  {
   "cell_type": "markdown",
   "metadata": {},
   "source": [
    "<h1>Text Mining - Exctracting Dates from Medical Data</h1>\n",
    "<b>Éverton Bin</b><br>"
   ]
  },
  {
   "cell_type": "markdown",
   "metadata": {},
   "source": [
    "<h3>Introduction</h3>\n",
    "<p>\n",
    "    Through this notebook, we are going to extract dates from medical records anotated in <i>dates.txt</i>, in which each line corresponds to one medical note.\n",
    "</p>\n",
    "<p>\n",
    "    This data was made available by <a href = \"https://umich.edu/\">University of Michigan</a> along with the <a href = \"https://www.coursera.org/learn/python-text-mining\">Applied Text Mining in Python</a> course offered through the <b>Coursera</b> platform.\n",
    "</p>\n",
    "<p>\n",
    "    Our goal is to extract one date from each record, regarding their format, standardizing them to one single format (in this case <b>dd/mm/yyy</b>) and then ordering this dates in <b>ascending</b> order, and keeping the original indexes. Some previous assumptions:\n",
    "    <li>all dates in xx/xx/xx format are mm/dd/yy;</li>\n",
    "    <li>all dates where year is encoded in only two digits are years from the 1900's (e.g. 1/5/89 is January 5th, 1989);</li>\n",
    "    <li>if the day is missing (e.g. 9/2009), it is going to be assumed as the first day of the month (e.g. September 1, 2009);</li>\n",
    "    <li>if the month is missing (e.g. 2010), it is going to be assumed as the first month of that year (e.g. January 1, 2010).</li>\n",
    "</p>"
   ]
  },
  {
   "cell_type": "markdown",
   "metadata": {},
   "source": [
    "<h3>Loading Data</h3>"
   ]
  },
  {
   "cell_type": "code",
   "execution_count": 1,
   "metadata": {},
   "outputs": [
    {
     "data": {
      "text/plain": [
       "0         03/25/93 Total time of visit (in minutes):\\n\n",
       "1                       6/18/85 Primary Care Doctor:\\n\n",
       "2    sshe plans to move as of 7/8/71 In-Home Servic...\n",
       "3                7 on 9/27/75 Audit C Score Current:\\n\n",
       "4    2/6/96 sleep studyPain Treatment Pain Level (N...\n",
       "5                    .Per 7/06/79 Movement D/O note:\\n\n",
       "6    4, 5/18/78 Patient's thoughts about current su...\n",
       "7    10/24/89 CPT Code: 90801 - Psychiatric Diagnos...\n",
       "8                         3/7/86 SOS-10 Total Score:\\n\n",
       "9             (4/10/71)Score-1Audit C Score Current:\\n\n",
       "dtype: object"
      ]
     },
     "execution_count": 1,
     "metadata": {},
     "output_type": "execute_result"
    }
   ],
   "source": [
    "# Loading packages:\n",
    "import pandas as pd\n",
    "import numpy as np\n",
    "import warnings\n",
    "warnings.filterwarnings('ignore')\n",
    "\n",
    "# Opening file and saving records in a list:\n",
    "doc = []\n",
    "with open('dates.txt') as file:\n",
    "    for line in file:\n",
    "        doc.append(line)\n",
    "\n",
    "# Transforming the list to a Series:\n",
    "df = pd.Series(doc)\n",
    "df.head(10)"
   ]
  },
  {
   "cell_type": "code",
   "execution_count": 2,
   "metadata": {},
   "outputs": [
    {
     "data": {
      "text/plain": [
       "500"
      ]
     },
     "execution_count": 2,
     "metadata": {},
     "output_type": "execute_result"
    }
   ],
   "source": [
    "len(df)"
   ]
  },
  {
   "cell_type": "markdown",
   "metadata": {},
   "source": [
    "<p>\n",
    "    There are <b>500</b> medical records, each one with one date of interest. Dates are written in several different formats and our mission is to extract all of them.\n",
    "</p>\n",
    "<p>\n",
    "    Let's check some random records, in order to better understand their content:\n",
    "</p>"
   ]
  },
  {
   "cell_type": "code",
   "execution_count": 3,
   "metadata": {},
   "outputs": [
    {
     "data": {
      "text/plain": [
       "'.Per 7/06/79 Movement D/O note:\\n'"
      ]
     },
     "execution_count": 3,
     "metadata": {},
     "output_type": "execute_result"
    }
   ],
   "source": [
    "df.iloc[5]"
   ]
  },
  {
   "cell_type": "code",
   "execution_count": 4,
   "metadata": {},
   "outputs": [
    {
     "data": {
      "text/plain": [
       "'see 4/27/2006 consult note Dr. GuevaraWhat factors in prior treatment were helpful/not helpful:\\n'"
      ]
     },
     "execution_count": 4,
     "metadata": {},
     "output_type": "execute_result"
    }
   ],
   "source": [
    "df.iloc[118]"
   ]
  },
  {
   "cell_type": "code",
   "execution_count": 5,
   "metadata": {},
   "outputs": [
    {
     "data": {
      "text/plain": [
       "\".Feb 18, 1994: made a phone call to Mom and Mom commented that he was talking very fast, hard to interrupt, but was in super happy spirits, so didn't make a big deal of it.\\n\""
      ]
     },
     "execution_count": 5,
     "metadata": {},
     "output_type": "execute_result"
    }
   ],
   "source": [
    "df.iloc[196]"
   ]
  },
  {
   "cell_type": "code",
   "execution_count": 6,
   "metadata": {},
   "outputs": [
    {
     "data": {
      "text/plain": [
       "') He endorsed the following hyperarousal symptoms: disturbed sleep (e.g., months with great sleep and then has nights he barely sleeps- mind racing with worries related to job, expecting a child (May 2005)); reckless or self-destructive behavior (e.g., see above); difficulty with concentration; some hypervigilance; and exaggerated startle response triggered by loud noises.\\n'"
      ]
     },
     "execution_count": 6,
     "metadata": {},
     "output_type": "execute_result"
    }
   ],
   "source": [
    "df.iloc[250]"
   ]
  },
  {
   "cell_type": "code",
   "execution_count": 7,
   "metadata": {},
   "outputs": [
    {
     "data": {
      "text/plain": [
       "'.Since January 1994, she feels that hse has been much more irritable and frustrated towards her husband about 1 week prior to her menses. She does not have a h/o premenstrual mood symptoms.  She notes that little things would set her off with him. She was not this way at work or in other social settings.\\n'"
      ]
     },
     "execution_count": 7,
     "metadata": {},
     "output_type": "execute_result"
    }
   ],
   "source": [
    "df.iloc[300]"
   ]
  },
  {
   "cell_type": "code",
   "execution_count": 8,
   "metadata": {},
   "outputs": [
    {
     "data": {
      "text/plain": [
       "'. Patient states that she will follow up with the Cotta Hospital clinic regarding getting a therapist for ongoing care. (Per LMR, pt transitioned to a new therapist in 9/2003 and was seen for 1 appointment; the pt canceled her f/u appt 2 weeks later and was not seen for f/u appointments since. )This visit for a one-time consultation only? Yes\\n'"
      ]
     },
     "execution_count": 8,
     "metadata": {},
     "output_type": "execute_result"
    }
   ],
   "source": [
    "df.iloc[356]"
   ]
  },
  {
   "cell_type": "code",
   "execution_count": 9,
   "metadata": {},
   "outputs": [
    {
     "data": {
      "text/plain": [
       "'therapist and friend died in ~2006 Parental/Caregiver obligations:\\n'"
      ]
     },
     "execution_count": 9,
     "metadata": {},
     "output_type": "execute_result"
    }
   ],
   "source": [
    "df.iloc[496]"
   ]
  },
  {
   "cell_type": "markdown",
   "metadata": {},
   "source": [
    "<h3>Defining Rules and Extracting Dates</h3>"
   ]
  },
  {
   "cell_type": "code",
   "execution_count": 10,
   "metadata": {},
   "outputs": [],
   "source": [
    "# Extracting format 0 (04/20/2009; 04/20/09; 4/20/09; 4/3/09):\n",
    "df0 = df.str.extract(r'(?P<month0>\\d{1,2})[/-](?P<day0>\\d{1,2})[/-](?P<year0>\\d{2,4})')\n",
    "\n",
    "# Extracting format 1 (Mar-20-2009; Mar 20, 2009; March 20, 2009; Mar. 20, 2009; Mar 20 2009):\n",
    "df1 = df.str.extract(r'(?P<month1>Jan|Feb|Mar|Apr|May|Jun|Jul|Aug|Sep|Oct|Nov|Dec)[a-z]*[-,. ]+(?P<day1>\\d{1,2})[-,. ]+(?P<year1>\\d{2,4})')\n",
    "\n",
    "# Extracting format 2 (20 Mar 2009; 20 March 2009; 20 Mar. 2009; 20 March, 2009):\n",
    "df2 = df.str.extract(r'(?P<day2>\\d{1,2}) (?P<month2>Jan|Feb|Mar|Apr|May|Jun|Jul|Aug|Sep|Oct|Nov|Dec)[a-z]*[,]* (?P<year2>\\d{2,4})')\n",
    "\n",
    "# Extracting format 3 (Mar 20th, 2009; Mar 21st, 2009; Mar 22nd, 2009):\n",
    "df3 = df.str.extract(r'(?P<month3>Jan|Feb|Mar|Apr|May|Jun|Jul|Aug|Sep|Oct|Nov|Dec)[a-z]* (?P<day3>\\d{1,2})[st]*[nd]*[th]*[,]* (?P<year3>\\d{2,4})')\n",
    "\n",
    "# Extracting format 4 (Feb 2009; September 2009; Oct, 2010):\n",
    "df4 = df.str.extract(r'(?P<month4>Jan|Feb|Mar|Apr|May|Jun|Jul|Aug|Sep|Oct|Nov|Dec)[a-z]*[,]* (?P<year4>\\d{2,4})')\n",
    "\n",
    "# Extracting format 5 (6/2008; 12/2009):\n",
    "df5 = df.str.extract(r'(?P<month5>\\d{1,2})/(?P<year5>\\d{4})')\n",
    "\n",
    "# Extracting format 6 (2009; 2010):\n",
    "df6 = df.str.extract(r'(?P<year6>19\\d{2}|20\\d{2})')"
   ]
  },
  {
   "cell_type": "markdown",
   "metadata": {},
   "source": [
    "<h3>Grouping Days, Months and Years</h3>"
   ]
  },
  {
   "cell_type": "code",
   "execution_count": 11,
   "metadata": {},
   "outputs": [],
   "source": [
    "# Selecting day, month and year\n",
    "days = pd.DataFrame()\n",
    "months = pd.DataFrame()\n",
    "years = pd.DataFrame()"
   ]
  },
  {
   "cell_type": "code",
   "execution_count": 12,
   "metadata": {},
   "outputs": [
    {
     "data": {
      "text/html": [
       "<div>\n",
       "<style scoped>\n",
       "    .dataframe tbody tr th:only-of-type {\n",
       "        vertical-align: middle;\n",
       "    }\n",
       "\n",
       "    .dataframe tbody tr th {\n",
       "        vertical-align: top;\n",
       "    }\n",
       "\n",
       "    .dataframe thead th {\n",
       "        text-align: right;\n",
       "    }\n",
       "</style>\n",
       "<table border=\"1\" class=\"dataframe\">\n",
       "  <thead>\n",
       "    <tr style=\"text-align: right;\">\n",
       "      <th></th>\n",
       "      <th>day0</th>\n",
       "      <th>day1</th>\n",
       "      <th>day2</th>\n",
       "      <th>day3</th>\n",
       "      <th>Day</th>\n",
       "    </tr>\n",
       "  </thead>\n",
       "  <tbody>\n",
       "    <tr>\n",
       "      <th>0</th>\n",
       "      <td>25</td>\n",
       "      <td>NaN</td>\n",
       "      <td>NaN</td>\n",
       "      <td>NaN</td>\n",
       "      <td>0</td>\n",
       "    </tr>\n",
       "    <tr>\n",
       "      <th>1</th>\n",
       "      <td>18</td>\n",
       "      <td>NaN</td>\n",
       "      <td>NaN</td>\n",
       "      <td>NaN</td>\n",
       "      <td>0</td>\n",
       "    </tr>\n",
       "    <tr>\n",
       "      <th>2</th>\n",
       "      <td>8</td>\n",
       "      <td>NaN</td>\n",
       "      <td>NaN</td>\n",
       "      <td>NaN</td>\n",
       "      <td>0</td>\n",
       "    </tr>\n",
       "    <tr>\n",
       "      <th>3</th>\n",
       "      <td>27</td>\n",
       "      <td>NaN</td>\n",
       "      <td>NaN</td>\n",
       "      <td>NaN</td>\n",
       "      <td>0</td>\n",
       "    </tr>\n",
       "    <tr>\n",
       "      <th>4</th>\n",
       "      <td>6</td>\n",
       "      <td>NaN</td>\n",
       "      <td>NaN</td>\n",
       "      <td>NaN</td>\n",
       "      <td>0</td>\n",
       "    </tr>\n",
       "  </tbody>\n",
       "</table>\n",
       "</div>"
      ],
      "text/plain": [
       "  day0 day1 day2 day3  Day\n",
       "0   25  NaN  NaN  NaN    0\n",
       "1   18  NaN  NaN  NaN    0\n",
       "2    8  NaN  NaN  NaN    0\n",
       "3   27  NaN  NaN  NaN    0\n",
       "4    6  NaN  NaN  NaN    0"
      ]
     },
     "execution_count": 12,
     "metadata": {},
     "output_type": "execute_result"
    }
   ],
   "source": [
    "# Days:\n",
    "days['day0'] = df0['day0']\n",
    "days['day1'] = df1['day1']\n",
    "days['day2'] = df2['day2']\n",
    "days['day3'] = df3['day3']\n",
    "days['Day'] = 0\n",
    "days.head()"
   ]
  },
  {
   "cell_type": "code",
   "execution_count": 13,
   "metadata": {},
   "outputs": [
    {
     "data": {
      "text/html": [
       "<div>\n",
       "<style scoped>\n",
       "    .dataframe tbody tr th:only-of-type {\n",
       "        vertical-align: middle;\n",
       "    }\n",
       "\n",
       "    .dataframe tbody tr th {\n",
       "        vertical-align: top;\n",
       "    }\n",
       "\n",
       "    .dataframe thead th {\n",
       "        text-align: right;\n",
       "    }\n",
       "</style>\n",
       "<table border=\"1\" class=\"dataframe\">\n",
       "  <thead>\n",
       "    <tr style=\"text-align: right;\">\n",
       "      <th></th>\n",
       "      <th>month0</th>\n",
       "      <th>month1</th>\n",
       "      <th>month2</th>\n",
       "      <th>month3</th>\n",
       "      <th>month4</th>\n",
       "      <th>month5</th>\n",
       "      <th>Month</th>\n",
       "    </tr>\n",
       "  </thead>\n",
       "  <tbody>\n",
       "    <tr>\n",
       "      <th>0</th>\n",
       "      <td>03</td>\n",
       "      <td>NaN</td>\n",
       "      <td>NaN</td>\n",
       "      <td>NaN</td>\n",
       "      <td>NaN</td>\n",
       "      <td>NaN</td>\n",
       "      <td>0</td>\n",
       "    </tr>\n",
       "    <tr>\n",
       "      <th>1</th>\n",
       "      <td>6</td>\n",
       "      <td>NaN</td>\n",
       "      <td>NaN</td>\n",
       "      <td>NaN</td>\n",
       "      <td>NaN</td>\n",
       "      <td>NaN</td>\n",
       "      <td>0</td>\n",
       "    </tr>\n",
       "    <tr>\n",
       "      <th>2</th>\n",
       "      <td>7</td>\n",
       "      <td>NaN</td>\n",
       "      <td>NaN</td>\n",
       "      <td>NaN</td>\n",
       "      <td>NaN</td>\n",
       "      <td>NaN</td>\n",
       "      <td>0</td>\n",
       "    </tr>\n",
       "    <tr>\n",
       "      <th>3</th>\n",
       "      <td>9</td>\n",
       "      <td>NaN</td>\n",
       "      <td>NaN</td>\n",
       "      <td>NaN</td>\n",
       "      <td>NaN</td>\n",
       "      <td>NaN</td>\n",
       "      <td>0</td>\n",
       "    </tr>\n",
       "    <tr>\n",
       "      <th>4</th>\n",
       "      <td>2</td>\n",
       "      <td>NaN</td>\n",
       "      <td>NaN</td>\n",
       "      <td>NaN</td>\n",
       "      <td>NaN</td>\n",
       "      <td>NaN</td>\n",
       "      <td>0</td>\n",
       "    </tr>\n",
       "  </tbody>\n",
       "</table>\n",
       "</div>"
      ],
      "text/plain": [
       "  month0 month1 month2 month3 month4 month5  Month\n",
       "0     03    NaN    NaN    NaN    NaN    NaN      0\n",
       "1      6    NaN    NaN    NaN    NaN    NaN      0\n",
       "2      7    NaN    NaN    NaN    NaN    NaN      0\n",
       "3      9    NaN    NaN    NaN    NaN    NaN      0\n",
       "4      2    NaN    NaN    NaN    NaN    NaN      0"
      ]
     },
     "execution_count": 13,
     "metadata": {},
     "output_type": "execute_result"
    }
   ],
   "source": [
    "# Months:\n",
    "months['month0'] = df0['month0']\n",
    "months['month1'] = df1['month1']\n",
    "months['month2'] = df2['month2']\n",
    "months['month3'] = df3['month3']\n",
    "months['month4'] = df4['month4']\n",
    "months['month5'] = df5['month5']\n",
    "months['Month'] = 0\n",
    "months.head()"
   ]
  },
  {
   "cell_type": "code",
   "execution_count": 14,
   "metadata": {},
   "outputs": [
    {
     "data": {
      "text/html": [
       "<div>\n",
       "<style scoped>\n",
       "    .dataframe tbody tr th:only-of-type {\n",
       "        vertical-align: middle;\n",
       "    }\n",
       "\n",
       "    .dataframe tbody tr th {\n",
       "        vertical-align: top;\n",
       "    }\n",
       "\n",
       "    .dataframe thead th {\n",
       "        text-align: right;\n",
       "    }\n",
       "</style>\n",
       "<table border=\"1\" class=\"dataframe\">\n",
       "  <thead>\n",
       "    <tr style=\"text-align: right;\">\n",
       "      <th></th>\n",
       "      <th>year0</th>\n",
       "      <th>year1</th>\n",
       "      <th>year2</th>\n",
       "      <th>year3</th>\n",
       "      <th>year4</th>\n",
       "      <th>year5</th>\n",
       "      <th>year6</th>\n",
       "      <th>Year</th>\n",
       "    </tr>\n",
       "  </thead>\n",
       "  <tbody>\n",
       "    <tr>\n",
       "      <th>0</th>\n",
       "      <td>93</td>\n",
       "      <td>NaN</td>\n",
       "      <td>NaN</td>\n",
       "      <td>NaN</td>\n",
       "      <td>NaN</td>\n",
       "      <td>NaN</td>\n",
       "      <td>NaN</td>\n",
       "      <td>0</td>\n",
       "    </tr>\n",
       "    <tr>\n",
       "      <th>1</th>\n",
       "      <td>85</td>\n",
       "      <td>NaN</td>\n",
       "      <td>NaN</td>\n",
       "      <td>NaN</td>\n",
       "      <td>NaN</td>\n",
       "      <td>NaN</td>\n",
       "      <td>NaN</td>\n",
       "      <td>0</td>\n",
       "    </tr>\n",
       "    <tr>\n",
       "      <th>2</th>\n",
       "      <td>71</td>\n",
       "      <td>NaN</td>\n",
       "      <td>NaN</td>\n",
       "      <td>NaN</td>\n",
       "      <td>NaN</td>\n",
       "      <td>NaN</td>\n",
       "      <td>NaN</td>\n",
       "      <td>0</td>\n",
       "    </tr>\n",
       "    <tr>\n",
       "      <th>3</th>\n",
       "      <td>75</td>\n",
       "      <td>NaN</td>\n",
       "      <td>NaN</td>\n",
       "      <td>NaN</td>\n",
       "      <td>NaN</td>\n",
       "      <td>NaN</td>\n",
       "      <td>NaN</td>\n",
       "      <td>0</td>\n",
       "    </tr>\n",
       "    <tr>\n",
       "      <th>4</th>\n",
       "      <td>96</td>\n",
       "      <td>NaN</td>\n",
       "      <td>NaN</td>\n",
       "      <td>NaN</td>\n",
       "      <td>NaN</td>\n",
       "      <td>NaN</td>\n",
       "      <td>NaN</td>\n",
       "      <td>0</td>\n",
       "    </tr>\n",
       "  </tbody>\n",
       "</table>\n",
       "</div>"
      ],
      "text/plain": [
       "  year0 year1 year2 year3 year4 year5 year6  Year\n",
       "0    93   NaN   NaN   NaN   NaN   NaN   NaN     0\n",
       "1    85   NaN   NaN   NaN   NaN   NaN   NaN     0\n",
       "2    71   NaN   NaN   NaN   NaN   NaN   NaN     0\n",
       "3    75   NaN   NaN   NaN   NaN   NaN   NaN     0\n",
       "4    96   NaN   NaN   NaN   NaN   NaN   NaN     0"
      ]
     },
     "execution_count": 14,
     "metadata": {},
     "output_type": "execute_result"
    }
   ],
   "source": [
    "# Years:\n",
    "years['year0'] = df0['year0']\n",
    "years['year1'] = df1['year1']\n",
    "years['year2'] = df2['year2']\n",
    "years['year3'] = df3['year3']\n",
    "years['year4'] = df4['year4']\n",
    "years['year5'] = df5['year5']\n",
    "years['year6'] = df6\n",
    "years['Year'] = 0\n",
    "years.head()"
   ]
  },
  {
   "cell_type": "markdown",
   "metadata": {},
   "source": [
    "<h3>Transformations</h3>"
   ]
  },
  {
   "cell_type": "code",
   "execution_count": 15,
   "metadata": {},
   "outputs": [],
   "source": [
    "# Creating a function to select one valid number for each day, month and year:\n",
    "def define_date(row):\n",
    "    '''\n",
    "    It compares values from a row and chooses a valid one.\n",
    "    INPUT:\n",
    "    row: row from a dataframe\n",
    "    \n",
    "    OUTPUT:\n",
    "    row: transformed row from the dataframe\n",
    "    '''\n",
    "    values = list()\n",
    "    for i in range(0, (len(row))):\n",
    "        if row[i] != 0:\n",
    "            values.append(row[i])\n",
    "    if len(values) == 0:\n",
    "        row[len(row)-1] = 1\n",
    "    elif len(values) == 1:\n",
    "        row[len(row)-1] = values[0]\n",
    "    else:\n",
    "        row[len(row)-1] = values[0]\n",
    "    return row"
   ]
  },
  {
   "cell_type": "code",
   "execution_count": 16,
   "metadata": {},
   "outputs": [],
   "source": [
    "# Filling Day column with the final day:\n",
    "days = days.fillna(value = 0)\n",
    "days = days.apply(define_date, axis = 1)"
   ]
  },
  {
   "cell_type": "code",
   "execution_count": 17,
   "metadata": {},
   "outputs": [],
   "source": [
    "# Filling Month column with the final month:\n",
    "months = months.fillna(value = 0)\n",
    "months = months.apply(define_date, axis = 1)"
   ]
  },
  {
   "cell_type": "code",
   "execution_count": 18,
   "metadata": {},
   "outputs": [],
   "source": [
    "# Filling Year column with the final year:\n",
    "years = years.fillna(value = 0)\n",
    "years = years.apply(define_date, axis = 1)"
   ]
  },
  {
   "cell_type": "code",
   "execution_count": 19,
   "metadata": {},
   "outputs": [],
   "source": [
    "# Transforming all days in two digits format:\n",
    "for i in range(0, len(days)):\n",
    "    if len(str(days['Day'].iloc[i])) == 1:\n",
    "        days['Day'].iloc[i] = '0'+str(days['Day'].iloc[i])"
   ]
  },
  {
   "cell_type": "code",
   "execution_count": 20,
   "metadata": {},
   "outputs": [],
   "source": [
    "# Transforming months to numeric:\n",
    "months_dic = {'Jan': '1', 'Feb': '2', 'Mar':'3', 'Apr': '4', 'May': '5', 'Jun': '6', 'Jul': '7', \n",
    "              'Aug': '8', 'Sep': '9', 'Oct': '10', 'Nov': '11', 'Dec': '12'}\n",
    "for key, value in months_dic.items():\n",
    "    for i in range(0, len(months)):\n",
    "        if months['Month'].iloc[i] == key:\n",
    "            months['Month'].iloc[i] = value\n",
    "            \n",
    "# Transforming all months in two digits format:\n",
    "for i in range(0, len(months)):\n",
    "    if len(str(months['Month'].iloc[i])) == 1:\n",
    "        months['Month'].iloc[i] = '0'+str(months['Month'].iloc[i])"
   ]
  },
  {
   "cell_type": "code",
   "execution_count": 21,
   "metadata": {},
   "outputs": [],
   "source": [
    "# Adding digits to the years with length 2:\n",
    "for i in range(0, len(years)):\n",
    "    if len(years['Year'].iloc[i]) == 2:\n",
    "        years['Year'].iloc[i] = '19'+years['Year'].iloc[i]"
   ]
  },
  {
   "cell_type": "code",
   "execution_count": 22,
   "metadata": {},
   "outputs": [],
   "source": [
    "# Creating a dataframe with the separated final date:\n",
    "final_date = pd.DataFrame()\n",
    "final_date['Day'] = days['Day']\n",
    "final_date['Month'] = months['Month']\n",
    "final_date['Year'] = years['Year']"
   ]
  },
  {
   "cell_type": "code",
   "execution_count": 23,
   "metadata": {},
   "outputs": [
    {
     "data": {
      "text/html": [
       "<div>\n",
       "<style scoped>\n",
       "    .dataframe tbody tr th:only-of-type {\n",
       "        vertical-align: middle;\n",
       "    }\n",
       "\n",
       "    .dataframe tbody tr th {\n",
       "        vertical-align: top;\n",
       "    }\n",
       "\n",
       "    .dataframe thead th {\n",
       "        text-align: right;\n",
       "    }\n",
       "</style>\n",
       "<table border=\"1\" class=\"dataframe\">\n",
       "  <thead>\n",
       "    <tr style=\"text-align: right;\">\n",
       "      <th></th>\n",
       "      <th>Day</th>\n",
       "      <th>Month</th>\n",
       "      <th>Year</th>\n",
       "      <th>Date</th>\n",
       "    </tr>\n",
       "  </thead>\n",
       "  <tbody>\n",
       "    <tr>\n",
       "      <th>0</th>\n",
       "      <td>25</td>\n",
       "      <td>03</td>\n",
       "      <td>1993</td>\n",
       "      <td>25/03/1993</td>\n",
       "    </tr>\n",
       "    <tr>\n",
       "      <th>1</th>\n",
       "      <td>18</td>\n",
       "      <td>06</td>\n",
       "      <td>1985</td>\n",
       "      <td>18/06/1985</td>\n",
       "    </tr>\n",
       "    <tr>\n",
       "      <th>2</th>\n",
       "      <td>08</td>\n",
       "      <td>07</td>\n",
       "      <td>1971</td>\n",
       "      <td>08/07/1971</td>\n",
       "    </tr>\n",
       "    <tr>\n",
       "      <th>3</th>\n",
       "      <td>27</td>\n",
       "      <td>09</td>\n",
       "      <td>1975</td>\n",
       "      <td>27/09/1975</td>\n",
       "    </tr>\n",
       "    <tr>\n",
       "      <th>4</th>\n",
       "      <td>06</td>\n",
       "      <td>02</td>\n",
       "      <td>1996</td>\n",
       "      <td>06/02/1996</td>\n",
       "    </tr>\n",
       "  </tbody>\n",
       "</table>\n",
       "</div>"
      ],
      "text/plain": [
       "  Day Month  Year        Date\n",
       "0  25    03  1993  25/03/1993\n",
       "1  18    06  1985  18/06/1985\n",
       "2  08    07  1971  08/07/1971\n",
       "3  27    09  1975  27/09/1975\n",
       "4  06    02  1996  06/02/1996"
      ]
     },
     "execution_count": 23,
     "metadata": {},
     "output_type": "execute_result"
    }
   ],
   "source": [
    "# Creating a column for the full date:\n",
    "final_date['Date'] = None\n",
    "\n",
    "# Defining a function to create the full date in format dd/mm/yyy:\n",
    "def joining_date(row):\n",
    "    '''\n",
    "    It concatenates columns into one final column date\n",
    "    INPUT:\n",
    "    row: recieves one dataframe row\n",
    "    OUTPUT:\n",
    "    row: returns the same row with the final column date updated\n",
    "    '''\n",
    "    row[3] = str(row[0]) + '/' + str(row[1]) + '/' + str(row[2])\n",
    "    return row\n",
    "\n",
    "# Applying function to dataframe:\n",
    "final_date = final_date.apply(joining_date, axis = 1)\n",
    "final_date.head()"
   ]
  },
  {
   "cell_type": "code",
   "execution_count": 24,
   "metadata": {},
   "outputs": [
    {
     "data": {
      "text/html": [
       "<div>\n",
       "<style scoped>\n",
       "    .dataframe tbody tr th:only-of-type {\n",
       "        vertical-align: middle;\n",
       "    }\n",
       "\n",
       "    .dataframe tbody tr th {\n",
       "        vertical-align: top;\n",
       "    }\n",
       "\n",
       "    .dataframe thead th {\n",
       "        text-align: right;\n",
       "    }\n",
       "</style>\n",
       "<table border=\"1\" class=\"dataframe\">\n",
       "  <thead>\n",
       "    <tr style=\"text-align: right;\">\n",
       "      <th></th>\n",
       "      <th>Day</th>\n",
       "      <th>Month</th>\n",
       "      <th>Year</th>\n",
       "      <th>Date</th>\n",
       "      <th>Index</th>\n",
       "    </tr>\n",
       "  </thead>\n",
       "  <tbody>\n",
       "    <tr>\n",
       "      <th>9</th>\n",
       "      <td>10</td>\n",
       "      <td>04</td>\n",
       "      <td>1971</td>\n",
       "      <td>1971-04-10</td>\n",
       "      <td>9</td>\n",
       "    </tr>\n",
       "    <tr>\n",
       "      <th>84</th>\n",
       "      <td>18</td>\n",
       "      <td>05</td>\n",
       "      <td>1971</td>\n",
       "      <td>1971-05-18</td>\n",
       "      <td>84</td>\n",
       "    </tr>\n",
       "    <tr>\n",
       "      <th>2</th>\n",
       "      <td>08</td>\n",
       "      <td>07</td>\n",
       "      <td>1971</td>\n",
       "      <td>1971-07-08</td>\n",
       "      <td>2</td>\n",
       "    </tr>\n",
       "    <tr>\n",
       "      <th>53</th>\n",
       "      <td>11</td>\n",
       "      <td>07</td>\n",
       "      <td>1971</td>\n",
       "      <td>1971-07-11</td>\n",
       "      <td>53</td>\n",
       "    </tr>\n",
       "    <tr>\n",
       "      <th>28</th>\n",
       "      <td>12</td>\n",
       "      <td>09</td>\n",
       "      <td>1971</td>\n",
       "      <td>1971-09-12</td>\n",
       "      <td>28</td>\n",
       "    </tr>\n",
       "  </tbody>\n",
       "</table>\n",
       "</div>"
      ],
      "text/plain": [
       "   Day Month  Year       Date  Index\n",
       "9   10    04  1971 1971-04-10      9\n",
       "84  18    05  1971 1971-05-18     84\n",
       "2   08    07  1971 1971-07-08      2\n",
       "53  11    07  1971 1971-07-11     53\n",
       "28  12    09  1971 1971-09-12     28"
      ]
     },
     "execution_count": 24,
     "metadata": {},
     "output_type": "execute_result"
    }
   ],
   "source": [
    "# Transforming to datetime type:\n",
    "final_date['Date'] = pd.to_datetime(final_date['Date'], format = '%d/%m/%Y')\n",
    "\n",
    "# Sorting values by date (ascending):\n",
    "final_date['Index'] = final_date.index\n",
    "final_date = final_date.sort_values(['Date', 'Index'], ascending = True)\n",
    "\n",
    "final_date.head()"
   ]
  },
  {
   "cell_type": "code",
   "execution_count": 25,
   "metadata": {},
   "outputs": [
    {
     "data": {
      "text/plain": [
       "0        9\n",
       "1       84\n",
       "2        2\n",
       "3       53\n",
       "4       28\n",
       "      ... \n",
       "495    427\n",
       "496    141\n",
       "497    186\n",
       "498    161\n",
       "499    413\n",
       "Length: 500, dtype: int64"
      ]
     },
     "execution_count": 25,
     "metadata": {},
     "output_type": "execute_result"
    }
   ],
   "source": [
    "# Transforming final_date index into a pandas series:\n",
    "ordered_dates_index = pd.Series(final_date.index)\n",
    "ordered_dates_index"
   ]
  }
 ],
 "metadata": {
  "kernelspec": {
   "display_name": "Python 3",
   "language": "python",
   "name": "python3"
  },
  "language_info": {
   "codemirror_mode": {
    "name": "ipython",
    "version": 3
   },
   "file_extension": ".py",
   "mimetype": "text/x-python",
   "name": "python",
   "nbconvert_exporter": "python",
   "pygments_lexer": "ipython3",
   "version": "3.7.7"
  }
 },
 "nbformat": 4,
 "nbformat_minor": 4
}
